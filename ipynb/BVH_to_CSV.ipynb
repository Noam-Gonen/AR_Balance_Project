{
 "cells": [
  {
   "cell_type": "markdown",
   "source": [
    "# Install & import"
   ],
   "metadata": {
    "collapsed": false
   },
   "id": "c830de6d29d40c45"
  },
  {
   "cell_type": "code",
   "outputs": [],
   "source": [
    "!pip install numpy\n",
    "!pip install pandas \n",
    "!pip install bvh"
   ],
   "metadata": {
    "collapsed": false,
    "ExecuteTime": {
     "end_time": "2025-01-02T16:00:13.879879300Z",
     "start_time": "2025-01-02T16:00:13.636157700Z"
    }
   },
   "id": "44e12bd9f8f80470",
   "execution_count": 2
  },
  {
   "cell_type": "code",
   "outputs": [],
   "source": [
    "import pandas as pd\n",
    "from bvh import Bvh\n",
    "import os"
   ],
   "metadata": {
    "collapsed": false,
    "ExecuteTime": {
     "end_time": "2025-01-02T16:00:15.159784Z",
     "start_time": "2025-01-02T16:00:14.095917700Z"
    }
   },
   "id": "3d55c0dd40b86dda",
   "execution_count": 3
  },
  {
   "cell_type": "markdown",
   "source": [
    "# Load BVH file and convert to DataFrame"
   ],
   "metadata": {
    "collapsed": false
   },
   "id": "2e75a6c2219cbebd"
  },
  {
   "cell_type": "code",
   "outputs": [],
   "source": [
    "# File paths and names\n",
    "data_path = \"C:\\\\Users\\\\noamg\\\\OneDrive - post.bgu.ac.il\\\\Documents\\\\תואר שני\\\\שנה א סמסטר א\\\\XR\\\\Project\\\\bvh_data\"  # Change file path\n",
    "file = \"TestTimecode\"  # Change file name\n",
    "bvh_file = f\"{data_path}\\\\{file}.BVH\"\n",
    "csv_file = f\"{data_path}\\\\{file}.csv\"\n",
    "\n",
    "\n",
    "csv_file_copy = f\"C:\\\\GitHub\\\\AR_Balance_Project\\\\data\\\\{file}.csv\""
   ],
   "metadata": {
    "collapsed": false,
    "ExecuteTime": {
     "end_time": "2025-01-02T16:01:10.440775400Z",
     "start_time": "2025-01-02T16:01:10.433998Z"
    }
   },
   "id": "b27a63073628fe60",
   "execution_count": 7
  },
  {
   "cell_type": "code",
   "outputs": [
    {
     "name": "stdout",
     "output_type": "stream",
     "text": [
      "Extracted 162 joint channels.\n",
      "Example channels: ['root_Xposition', 'root_Yposition', 'root_Zposition', 'root_Zrotation', 'root_Xrotation', 'root_Yrotation', 'torso_1_Xposition', 'torso_1_Yposition', 'torso_1_Zposition', 'torso_1_Zrotation']\n",
      "0.033333\n",
      "Motion data saved toC:\\Users\\noamg\\OneDrive - post.bgu.ac.il\\Documents\\תואר שני\\שנה א סמסטר א\\XR\\Project\\bvh_data\\TestTimecode.csv computer\n",
      "Motion data saved toC:\\Users\\noamg\\OneDrive - post.bgu.ac.il\\Documents\\תואר שני\\שנה א סמסטר א\\XR\\Project\\bvh_data\\TestTimecode.csv repository file\n"
     ]
    }
   ],
   "source": [
    "# Check if CSV already exists\n",
    "if os.path.exists(csv_file):\n",
    "    print(f\"CSV file already exists: {csv_file}\")\n",
    "    exit()\n",
    "\n",
    "# Read BVH file\n",
    "try:\n",
    "    with open(bvh_file, \"r\") as f:\n",
    "        mocopi_bvh = Bvh(f.read())\n",
    "except FileNotFoundError:\n",
    "    print(f\"BVH file not found: {bvh_file}\")\n",
    "    exit()\n",
    "\n",
    "# Extract joint names\n",
    "joint_channels = []\n",
    "for joint in mocopi_bvh.get_joints():\n",
    "    joint = str(joint).split()[1]\n",
    "    for channel in mocopi_bvh.joint_channels(joint):\n",
    "        joint_channels.append(f\"{joint}_{channel}\")\n",
    "\n",
    "# Verify joint and channel extraction\n",
    "print(f\"Extracted {len(joint_channels)} joint channels.\")\n",
    "print(f\"Example channels: {joint_channels[:10]}\")\n",
    "\n",
    "# Extract motion data\n",
    "motion_data = []\n",
    "try:\n",
    "    for frame in mocopi_bvh.frames:\n",
    "        motion_data.append([float(value) for value in frame])\n",
    "except Exception as e:\n",
    "    print(f\"Error extracting motion data: {e}\")\n",
    "    exit()\n",
    "\n",
    "# Check if data matches expected columns\n",
    "if len(joint_channels) != len(motion_data[0]):\n",
    "    print(f\"Mismatch between joint channels ({len(joint_channels)}) and motion data columns ({len(motion_data[0])}).\")\n",
    "    exit()\n",
    "\n",
    "# Convert to DataFrame\n",
    "df = pd.DataFrame(motion_data, columns=joint_channels)\n",
    "\n",
    "# Add TimeCode column (the TimeCode is local, t0 is \"0\" and not 17:04 for example)\n",
    "print(mocopi_bvh.frame_time)\n",
    "frame_time = mocopi_bvh.frame_time  # Extract Frame Time from BVH\n",
    "df['TimeCode'] = [i * frame_time for i in range(len(df))]\n",
    "\n",
    "# Save to CSV to Computer\n",
    "df.to_csv(csv_file, index=False)\n",
    "print(f\"Motion data saved to{csv_file} computer\")\n",
    "\n",
    "# Save to CSV to repository\n",
    "df.to_csv(csv_file_copy, index=False)\n",
    "print(f\"Motion data saved to{csv_file} repository file\")\n"
   ],
   "metadata": {
    "collapsed": false,
    "ExecuteTime": {
     "end_time": "2025-01-02T16:01:11.233662900Z",
     "start_time": "2025-01-02T16:01:10.980032200Z"
    }
   },
   "id": "494b89174f375c57",
   "execution_count": 8
  },
  {
   "cell_type": "code",
   "outputs": [],
   "source": [],
   "metadata": {
    "collapsed": false
   },
   "id": "eb9bfa4bbf08fc5b"
  }
 ],
 "metadata": {
  "kernelspec": {
   "display_name": "Python 3",
   "language": "python",
   "name": "python3"
  },
  "language_info": {
   "codemirror_mode": {
    "name": "ipython",
    "version": 2
   },
   "file_extension": ".py",
   "mimetype": "text/x-python",
   "name": "python",
   "nbconvert_exporter": "python",
   "pygments_lexer": "ipython2",
   "version": "2.7.6"
  }
 },
 "nbformat": 4,
 "nbformat_minor": 5
}
